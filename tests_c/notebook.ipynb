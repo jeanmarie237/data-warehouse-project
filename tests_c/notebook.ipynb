{
 "cells": [
  {
   "cell_type": "code",
   "execution_count": 2,
   "metadata": {},
   "outputs": [],
   "source": [
    "import pandas as pd "
   ]
  },
  {
   "cell_type": "code",
   "execution_count": 3,
   "metadata": {},
   "outputs": [],
   "source": [
    "# crm\n",
    "cust_in = \"/home/jean/all_projects/projets_data/data-warehouse-project/datasets/source_crm/cust_info.csv\"\n",
    "prd_in  = \"/home/jean/all_projects/projets_data/data-warehouse-project/datasets/source_crm/prd_info.csv\"\n",
    "sal_in  = \"/home/jean/all_projects/projets_data/data-warehouse-project/datasets/source_crm/sales_details.csv\""
   ]
  },
  {
   "cell_type": "code",
   "execution_count": 4,
   "metadata": {},
   "outputs": [],
   "source": [
    "# erp\n",
    "CUS_A = \"/home/jean/all_projects/projets_data/data-warehouse-project/datasets/source_erp/CUST_AZ12.csv\"\n",
    "LOC_A = \"/home/jean/all_projects/projets_data/data-warehouse-project/datasets/source_erp/LOC_A101.csv\"\n",
    "PX_AC = \"/home/jean/all_projects/projets_data/data-warehouse-project/datasets/source_erp/PX_CAT_G1V2.csv\""
   ]
  },
  {
   "cell_type": "code",
   "execution_count": 5,
   "metadata": {},
   "outputs": [],
   "source": [
    "def read_data(file):\n",
    "    df = pd.read_csv(file)\n",
    "\n",
    "    #df.info()\n",
    "    \n",
    "    return df"
   ]
  },
  {
   "cell_type": "code",
   "execution_count": 6,
   "metadata": {},
   "outputs": [],
   "source": [
    "df_cus = read_data(cust_in)\n",
    "df_prd = read_data(prd_in)\n",
    "df_sal = read_data(sal_in)\n",
    "df_cus_a = read_data(CUS_A)\n",
    "df_loc_a = read_data(LOC_A)\n",
    "df_px_a  = read_data(PX_AC)\n"
   ]
  },
  {
   "cell_type": "code",
   "execution_count": 8,
   "metadata": {},
   "outputs": [
    {
     "data": {
      "text/html": [
       "<div>\n",
       "<style scoped>\n",
       "    .dataframe tbody tr th:only-of-type {\n",
       "        vertical-align: middle;\n",
       "    }\n",
       "\n",
       "    .dataframe tbody tr th {\n",
       "        vertical-align: top;\n",
       "    }\n",
       "\n",
       "    .dataframe thead th {\n",
       "        text-align: right;\n",
       "    }\n",
       "</style>\n",
       "<table border=\"1\" class=\"dataframe\">\n",
       "  <thead>\n",
       "    <tr style=\"text-align: right;\">\n",
       "      <th></th>\n",
       "      <th>prd_id</th>\n",
       "      <th>prd_key</th>\n",
       "      <th>prd_nm</th>\n",
       "      <th>prd_cost</th>\n",
       "      <th>prd_line</th>\n",
       "      <th>prd_start_dt</th>\n",
       "      <th>prd_end_dt</th>\n",
       "    </tr>\n",
       "  </thead>\n",
       "  <tbody>\n",
       "    <tr>\n",
       "      <th>0</th>\n",
       "      <td>210</td>\n",
       "      <td>CO-RF-FR-R92B-58</td>\n",
       "      <td>HL Road Frame - Black- 58</td>\n",
       "      <td>NaN</td>\n",
       "      <td>R</td>\n",
       "      <td>2003-07-01</td>\n",
       "      <td>NaN</td>\n",
       "    </tr>\n",
       "    <tr>\n",
       "      <th>1</th>\n",
       "      <td>211</td>\n",
       "      <td>CO-RF-FR-R92R-58</td>\n",
       "      <td>HL Road Frame - Red- 58</td>\n",
       "      <td>NaN</td>\n",
       "      <td>R</td>\n",
       "      <td>2003-07-01</td>\n",
       "      <td>NaN</td>\n",
       "    </tr>\n",
       "    <tr>\n",
       "      <th>2</th>\n",
       "      <td>212</td>\n",
       "      <td>AC-HE-HL-U509-R</td>\n",
       "      <td>Sport-100 Helmet- Red</td>\n",
       "      <td>12.0</td>\n",
       "      <td>S</td>\n",
       "      <td>2011-07-01</td>\n",
       "      <td>2007-12-28</td>\n",
       "    </tr>\n",
       "    <tr>\n",
       "      <th>3</th>\n",
       "      <td>213</td>\n",
       "      <td>AC-HE-HL-U509-R</td>\n",
       "      <td>Sport-100 Helmet- Red</td>\n",
       "      <td>14.0</td>\n",
       "      <td>S</td>\n",
       "      <td>2012-07-01</td>\n",
       "      <td>2008-12-27</td>\n",
       "    </tr>\n",
       "    <tr>\n",
       "      <th>4</th>\n",
       "      <td>214</td>\n",
       "      <td>AC-HE-HL-U509-R</td>\n",
       "      <td>Sport-100 Helmet- Red</td>\n",
       "      <td>13.0</td>\n",
       "      <td>S</td>\n",
       "      <td>2013-07-01</td>\n",
       "      <td>NaN</td>\n",
       "    </tr>\n",
       "  </tbody>\n",
       "</table>\n",
       "</div>"
      ],
      "text/plain": [
       "   prd_id           prd_key                     prd_nm  prd_cost prd_line  \\\n",
       "0     210  CO-RF-FR-R92B-58  HL Road Frame - Black- 58       NaN       R    \n",
       "1     211  CO-RF-FR-R92R-58    HL Road Frame - Red- 58       NaN       R    \n",
       "2     212   AC-HE-HL-U509-R      Sport-100 Helmet- Red      12.0       S    \n",
       "3     213   AC-HE-HL-U509-R      Sport-100 Helmet- Red      14.0       S    \n",
       "4     214   AC-HE-HL-U509-R      Sport-100 Helmet- Red      13.0       S    \n",
       "\n",
       "  prd_start_dt  prd_end_dt  \n",
       "0   2003-07-01         NaN  \n",
       "1   2003-07-01         NaN  \n",
       "2   2011-07-01  2007-12-28  \n",
       "3   2012-07-01  2008-12-27  \n",
       "4   2013-07-01         NaN  "
      ]
     },
     "execution_count": 8,
     "metadata": {},
     "output_type": "execute_result"
    }
   ],
   "source": [
    "df_prd.head()"
   ]
  },
  {
   "cell_type": "code",
   "execution_count": 16,
   "metadata": {},
   "outputs": [
    {
     "data": {
      "text/html": [
       "<div>\n",
       "<style scoped>\n",
       "    .dataframe tbody tr th:only-of-type {\n",
       "        vertical-align: middle;\n",
       "    }\n",
       "\n",
       "    .dataframe tbody tr th {\n",
       "        vertical-align: top;\n",
       "    }\n",
       "\n",
       "    .dataframe thead th {\n",
       "        text-align: right;\n",
       "    }\n",
       "</style>\n",
       "<table border=\"1\" class=\"dataframe\">\n",
       "  <thead>\n",
       "    <tr style=\"text-align: right;\">\n",
       "      <th></th>\n",
       "      <th>prd_id</th>\n",
       "      <th>prd_key</th>\n",
       "      <th>prd_nm</th>\n",
       "      <th>prd_cost</th>\n",
       "      <th>prd_line</th>\n",
       "      <th>prd_start_dt</th>\n",
       "      <th>prd_end_dt</th>\n",
       "    </tr>\n",
       "  </thead>\n",
       "  <tbody>\n",
       "    <tr>\n",
       "      <th>0</th>\n",
       "      <td>210</td>\n",
       "      <td>CO-RF-FR-R92B-58</td>\n",
       "      <td>HL Road Frame - Black- 58</td>\n",
       "      <td>NaN</td>\n",
       "      <td>R</td>\n",
       "      <td>2003-07-01</td>\n",
       "      <td>NaN</td>\n",
       "    </tr>\n",
       "    <tr>\n",
       "      <th>1</th>\n",
       "      <td>211</td>\n",
       "      <td>CO-RF-FR-R92R-58</td>\n",
       "      <td>HL Road Frame - Red- 58</td>\n",
       "      <td>NaN</td>\n",
       "      <td>R</td>\n",
       "      <td>2003-07-01</td>\n",
       "      <td>NaN</td>\n",
       "    </tr>\n",
       "    <tr>\n",
       "      <th>2</th>\n",
       "      <td>212</td>\n",
       "      <td>AC-HE-HL-U509-R</td>\n",
       "      <td>Sport-100 Helmet- Red</td>\n",
       "      <td>12.0</td>\n",
       "      <td>S</td>\n",
       "      <td>2011-07-01</td>\n",
       "      <td>2007-12-28</td>\n",
       "    </tr>\n",
       "    <tr>\n",
       "      <th>3</th>\n",
       "      <td>213</td>\n",
       "      <td>AC-HE-HL-U509-R</td>\n",
       "      <td>Sport-100 Helmet- Red</td>\n",
       "      <td>14.0</td>\n",
       "      <td>S</td>\n",
       "      <td>2012-07-01</td>\n",
       "      <td>2008-12-27</td>\n",
       "    </tr>\n",
       "    <tr>\n",
       "      <th>4</th>\n",
       "      <td>214</td>\n",
       "      <td>AC-HE-HL-U509-R</td>\n",
       "      <td>Sport-100 Helmet- Red</td>\n",
       "      <td>13.0</td>\n",
       "      <td>S</td>\n",
       "      <td>2013-07-01</td>\n",
       "      <td>NaN</td>\n",
       "    </tr>\n",
       "    <tr>\n",
       "      <th>...</th>\n",
       "      <td>...</td>\n",
       "      <td>...</td>\n",
       "      <td>...</td>\n",
       "      <td>...</td>\n",
       "      <td>...</td>\n",
       "      <td>...</td>\n",
       "      <td>...</td>\n",
       "    </tr>\n",
       "    <tr>\n",
       "      <th>392</th>\n",
       "      <td>602</td>\n",
       "      <td>CO-BB-BB-8107</td>\n",
       "      <td>ML Bottom Bracket</td>\n",
       "      <td>45.0</td>\n",
       "      <td>NaN</td>\n",
       "      <td>2013-07-01</td>\n",
       "      <td>NaN</td>\n",
       "    </tr>\n",
       "    <tr>\n",
       "      <th>393</th>\n",
       "      <td>603</td>\n",
       "      <td>CO-BB-BB-9108</td>\n",
       "      <td>HL Bottom Bracket</td>\n",
       "      <td>54.0</td>\n",
       "      <td>NaN</td>\n",
       "      <td>2013-07-01</td>\n",
       "      <td>NaN</td>\n",
       "    </tr>\n",
       "    <tr>\n",
       "      <th>394</th>\n",
       "      <td>604</td>\n",
       "      <td>BI-RB-BK-R19B-44</td>\n",
       "      <td>Road-750 Black- 44</td>\n",
       "      <td>344.0</td>\n",
       "      <td>R</td>\n",
       "      <td>2013-07-01</td>\n",
       "      <td>NaN</td>\n",
       "    </tr>\n",
       "    <tr>\n",
       "      <th>395</th>\n",
       "      <td>605</td>\n",
       "      <td>BI-RB-BK-R19B-48</td>\n",
       "      <td>Road-750 Black- 48</td>\n",
       "      <td>344.0</td>\n",
       "      <td>R</td>\n",
       "      <td>2013-07-01</td>\n",
       "      <td>NaN</td>\n",
       "    </tr>\n",
       "    <tr>\n",
       "      <th>396</th>\n",
       "      <td>606</td>\n",
       "      <td>BI-RB-BK-R19B-52</td>\n",
       "      <td>Road-750 Black- 52</td>\n",
       "      <td>344.0</td>\n",
       "      <td>R</td>\n",
       "      <td>2013-07-01</td>\n",
       "      <td>NaN</td>\n",
       "    </tr>\n",
       "  </tbody>\n",
       "</table>\n",
       "<p>397 rows × 7 columns</p>\n",
       "</div>"
      ],
      "text/plain": [
       "     prd_id           prd_key                     prd_nm  prd_cost prd_line  \\\n",
       "0       210  CO-RF-FR-R92B-58  HL Road Frame - Black- 58       NaN       R    \n",
       "1       211  CO-RF-FR-R92R-58    HL Road Frame - Red- 58       NaN       R    \n",
       "2       212   AC-HE-HL-U509-R      Sport-100 Helmet- Red      12.0       S    \n",
       "3       213   AC-HE-HL-U509-R      Sport-100 Helmet- Red      14.0       S    \n",
       "4       214   AC-HE-HL-U509-R      Sport-100 Helmet- Red      13.0       S    \n",
       "..      ...               ...                        ...       ...      ...   \n",
       "392     602     CO-BB-BB-8107          ML Bottom Bracket      45.0      NaN   \n",
       "393     603     CO-BB-BB-9108          HL Bottom Bracket      54.0      NaN   \n",
       "394     604  BI-RB-BK-R19B-44         Road-750 Black- 44     344.0       R    \n",
       "395     605  BI-RB-BK-R19B-48         Road-750 Black- 48     344.0       R    \n",
       "396     606  BI-RB-BK-R19B-52         Road-750 Black- 52     344.0       R    \n",
       "\n",
       "    prd_start_dt  prd_end_dt  \n",
       "0     2003-07-01         NaN  \n",
       "1     2003-07-01         NaN  \n",
       "2     2011-07-01  2007-12-28  \n",
       "3     2012-07-01  2008-12-27  \n",
       "4     2013-07-01         NaN  \n",
       "..           ...         ...  \n",
       "392   2013-07-01         NaN  \n",
       "393   2013-07-01         NaN  \n",
       "394   2013-07-01         NaN  \n",
       "395   2013-07-01         NaN  \n",
       "396   2013-07-01         NaN  \n",
       "\n",
       "[397 rows x 7 columns]"
      ]
     },
     "execution_count": 16,
     "metadata": {},
     "output_type": "execute_result"
    }
   ],
   "source": [
    "df_prd"
   ]
  },
  {
   "cell_type": "code",
   "execution_count": 10,
   "metadata": {},
   "outputs": [],
   "source": [
    "col_1 = df_prd.columns.to_list()"
   ]
  },
  {
   "cell_type": "code",
   "execution_count": 9,
   "metadata": {},
   "outputs": [
    {
     "name": "stdout",
     "output_type": "stream",
     "text": [
      "<class 'pandas.core.frame.DataFrame'>\n",
      "RangeIndex: 397 entries, 0 to 396\n",
      "Data columns (total 7 columns):\n",
      " #   Column        Non-Null Count  Dtype  \n",
      "---  ------        --------------  -----  \n",
      " 0   prd_id        397 non-null    int64  \n",
      " 1   prd_key       397 non-null    object \n",
      " 2   prd_nm        397 non-null    object \n",
      " 3   prd_cost      395 non-null    float64\n",
      " 4   prd_line      380 non-null    object \n",
      " 5   prd_start_dt  397 non-null    object \n",
      " 6   prd_end_dt    200 non-null    object \n",
      "dtypes: float64(1), int64(1), object(5)\n",
      "memory usage: 21.8+ KB\n"
     ]
    }
   ],
   "source": [
    "df_prd.info()"
   ]
  },
  {
   "cell_type": "code",
   "execution_count": 11,
   "metadata": {},
   "outputs": [
    {
     "data": {
      "text/plain": [
       "['prd_id',\n",
       " 'prd_key',\n",
       " 'prd_nm',\n",
       " 'prd_cost',\n",
       " 'prd_line',\n",
       " 'prd_start_dt',\n",
       " 'prd_end_dt']"
      ]
     },
     "execution_count": 11,
     "metadata": {},
     "output_type": "execute_result"
    }
   ],
   "source": [
    "col_1"
   ]
  },
  {
   "cell_type": "code",
   "execution_count": 40,
   "metadata": {},
   "outputs": [
    {
     "data": {
      "text/html": [
       "<div>\n",
       "<style scoped>\n",
       "    .dataframe tbody tr th:only-of-type {\n",
       "        vertical-align: middle;\n",
       "    }\n",
       "\n",
       "    .dataframe tbody tr th {\n",
       "        vertical-align: top;\n",
       "    }\n",
       "\n",
       "    .dataframe thead th {\n",
       "        text-align: right;\n",
       "    }\n",
       "</style>\n",
       "<table border=\"1\" class=\"dataframe\">\n",
       "  <thead>\n",
       "    <tr style=\"text-align: right;\">\n",
       "      <th></th>\n",
       "      <th>sls_ord_num</th>\n",
       "      <th>sls_prd_key</th>\n",
       "      <th>sls_cust_id</th>\n",
       "      <th>sls_order_dt</th>\n",
       "      <th>sls_ship_dt</th>\n",
       "      <th>sls_due_dt</th>\n",
       "      <th>sls_sales</th>\n",
       "      <th>sls_quantity</th>\n",
       "      <th>sls_price</th>\n",
       "    </tr>\n",
       "  </thead>\n",
       "  <tbody>\n",
       "    <tr>\n",
       "      <th>0</th>\n",
       "      <td>SO43697</td>\n",
       "      <td>BK-R93R-62</td>\n",
       "      <td>21768</td>\n",
       "      <td>20101229</td>\n",
       "      <td>20110105</td>\n",
       "      <td>20110110</td>\n",
       "      <td>3578.0</td>\n",
       "      <td>1</td>\n",
       "      <td>3578.0</td>\n",
       "    </tr>\n",
       "    <tr>\n",
       "      <th>1</th>\n",
       "      <td>SO43698</td>\n",
       "      <td>BK-M82S-44</td>\n",
       "      <td>28389</td>\n",
       "      <td>20101229</td>\n",
       "      <td>20110105</td>\n",
       "      <td>20110110</td>\n",
       "      <td>3400.0</td>\n",
       "      <td>1</td>\n",
       "      <td>3400.0</td>\n",
       "    </tr>\n",
       "    <tr>\n",
       "      <th>2</th>\n",
       "      <td>SO43699</td>\n",
       "      <td>BK-M82S-44</td>\n",
       "      <td>25863</td>\n",
       "      <td>20101229</td>\n",
       "      <td>20110105</td>\n",
       "      <td>20110110</td>\n",
       "      <td>3400.0</td>\n",
       "      <td>1</td>\n",
       "      <td>3400.0</td>\n",
       "    </tr>\n",
       "    <tr>\n",
       "      <th>3</th>\n",
       "      <td>SO43700</td>\n",
       "      <td>BK-R50B-62</td>\n",
       "      <td>14501</td>\n",
       "      <td>20101229</td>\n",
       "      <td>20110105</td>\n",
       "      <td>20110110</td>\n",
       "      <td>699.0</td>\n",
       "      <td>1</td>\n",
       "      <td>699.0</td>\n",
       "    </tr>\n",
       "    <tr>\n",
       "      <th>4</th>\n",
       "      <td>SO43701</td>\n",
       "      <td>BK-M82S-44</td>\n",
       "      <td>11003</td>\n",
       "      <td>20101229</td>\n",
       "      <td>20110105</td>\n",
       "      <td>20110110</td>\n",
       "      <td>3400.0</td>\n",
       "      <td>1</td>\n",
       "      <td>3400.0</td>\n",
       "    </tr>\n",
       "  </tbody>\n",
       "</table>\n",
       "</div>"
      ],
      "text/plain": [
       "  sls_ord_num sls_prd_key  sls_cust_id  sls_order_dt  sls_ship_dt  sls_due_dt  \\\n",
       "0     SO43697  BK-R93R-62        21768      20101229     20110105    20110110   \n",
       "1     SO43698  BK-M82S-44        28389      20101229     20110105    20110110   \n",
       "2     SO43699  BK-M82S-44        25863      20101229     20110105    20110110   \n",
       "3     SO43700  BK-R50B-62        14501      20101229     20110105    20110110   \n",
       "4     SO43701  BK-M82S-44        11003      20101229     20110105    20110110   \n",
       "\n",
       "   sls_sales  sls_quantity  sls_price  \n",
       "0     3578.0             1     3578.0  \n",
       "1     3400.0             1     3400.0  \n",
       "2     3400.0             1     3400.0  \n",
       "3      699.0             1      699.0  \n",
       "4     3400.0             1     3400.0  "
      ]
     },
     "execution_count": 40,
     "metadata": {},
     "output_type": "execute_result"
    }
   ],
   "source": [
    "df_sal.head()"
   ]
  },
  {
   "cell_type": "code",
   "execution_count": 12,
   "metadata": {},
   "outputs": [
    {
     "name": "stdout",
     "output_type": "stream",
     "text": [
      "<class 'pandas.core.frame.DataFrame'>\n",
      "RangeIndex: 60398 entries, 0 to 60397\n",
      "Data columns (total 9 columns):\n",
      " #   Column        Non-Null Count  Dtype  \n",
      "---  ------        --------------  -----  \n",
      " 0   sls_ord_num   60398 non-null  object \n",
      " 1   sls_prd_key   60398 non-null  object \n",
      " 2   sls_cust_id   60398 non-null  int64  \n",
      " 3   sls_order_dt  60398 non-null  int64  \n",
      " 4   sls_ship_dt   60398 non-null  int64  \n",
      " 5   sls_due_dt    60398 non-null  int64  \n",
      " 6   sls_sales     60390 non-null  float64\n",
      " 7   sls_quantity  60398 non-null  int64  \n",
      " 8   sls_price     60391 non-null  float64\n",
      "dtypes: float64(2), int64(5), object(2)\n",
      "memory usage: 4.1+ MB\n"
     ]
    }
   ],
   "source": [
    "df_sal.info()"
   ]
  },
  {
   "cell_type": "code",
   "execution_count": 44,
   "metadata": {},
   "outputs": [
    {
     "data": {
      "text/plain": [
       "['sls_ord_num',\n",
       " 'sls_prd_key',\n",
       " 'sls_cust_id',\n",
       " 'sls_order_dt',\n",
       " 'sls_ship_dt',\n",
       " 'sls_due_dt',\n",
       " 'sls_sales',\n",
       " 'sls_quantity',\n",
       " 'sls_price']"
      ]
     },
     "execution_count": 44,
     "metadata": {},
     "output_type": "execute_result"
    }
   ],
   "source": [
    "df_sal.columns.to_list()\n"
   ]
  },
  {
   "cell_type": "code",
   "execution_count": 46,
   "metadata": {},
   "outputs": [
    {
     "data": {
      "text/html": [
       "<div>\n",
       "<style scoped>\n",
       "    .dataframe tbody tr th:only-of-type {\n",
       "        vertical-align: middle;\n",
       "    }\n",
       "\n",
       "    .dataframe tbody tr th {\n",
       "        vertical-align: top;\n",
       "    }\n",
       "\n",
       "    .dataframe thead th {\n",
       "        text-align: right;\n",
       "    }\n",
       "</style>\n",
       "<table border=\"1\" class=\"dataframe\">\n",
       "  <thead>\n",
       "    <tr style=\"text-align: right;\">\n",
       "      <th></th>\n",
       "      <th>cst_id</th>\n",
       "      <th>cst_key</th>\n",
       "      <th>cst_firstname</th>\n",
       "      <th>cst_lastname</th>\n",
       "      <th>cst_marital_status</th>\n",
       "      <th>cst_gndr</th>\n",
       "      <th>cst_create_date</th>\n",
       "    </tr>\n",
       "  </thead>\n",
       "  <tbody>\n",
       "    <tr>\n",
       "      <th>0</th>\n",
       "      <td>11000.0</td>\n",
       "      <td>AW00011000</td>\n",
       "      <td>Jon</td>\n",
       "      <td>Yang</td>\n",
       "      <td>M</td>\n",
       "      <td>M</td>\n",
       "      <td>2025-10-06</td>\n",
       "    </tr>\n",
       "    <tr>\n",
       "      <th>1</th>\n",
       "      <td>11001.0</td>\n",
       "      <td>AW00011001</td>\n",
       "      <td>Eugene</td>\n",
       "      <td>Huang</td>\n",
       "      <td>S</td>\n",
       "      <td>M</td>\n",
       "      <td>2025-10-06</td>\n",
       "    </tr>\n",
       "    <tr>\n",
       "      <th>2</th>\n",
       "      <td>11002.0</td>\n",
       "      <td>AW00011002</td>\n",
       "      <td>Ruben</td>\n",
       "      <td>Torres</td>\n",
       "      <td>M</td>\n",
       "      <td>M</td>\n",
       "      <td>2025-10-06</td>\n",
       "    </tr>\n",
       "    <tr>\n",
       "      <th>3</th>\n",
       "      <td>11003.0</td>\n",
       "      <td>AW00011003</td>\n",
       "      <td>Christy</td>\n",
       "      <td>Zhu</td>\n",
       "      <td>S</td>\n",
       "      <td>F</td>\n",
       "      <td>2025-10-06</td>\n",
       "    </tr>\n",
       "    <tr>\n",
       "      <th>4</th>\n",
       "      <td>11004.0</td>\n",
       "      <td>AW00011004</td>\n",
       "      <td>Elizabeth</td>\n",
       "      <td>Johnson</td>\n",
       "      <td>S</td>\n",
       "      <td>F</td>\n",
       "      <td>2025-10-06</td>\n",
       "    </tr>\n",
       "  </tbody>\n",
       "</table>\n",
       "</div>"
      ],
      "text/plain": [
       "    cst_id     cst_key cst_firstname cst_lastname cst_marital_status cst_gndr  \\\n",
       "0  11000.0  AW00011000           Jon        Yang                   M        M   \n",
       "1  11001.0  AW00011001        Eugene      Huang                    S        M   \n",
       "2  11002.0  AW00011002         Ruben       Torres                  M        M   \n",
       "3  11003.0  AW00011003       Christy          Zhu                  S        F   \n",
       "4  11004.0  AW00011004     Elizabeth      Johnson                  S        F   \n",
       "\n",
       "  cst_create_date  \n",
       "0      2025-10-06  \n",
       "1      2025-10-06  \n",
       "2      2025-10-06  \n",
       "3      2025-10-06  \n",
       "4      2025-10-06  "
      ]
     },
     "execution_count": 46,
     "metadata": {},
     "output_type": "execute_result"
    }
   ],
   "source": [
    "df_cus.head()"
   ]
  },
  {
   "cell_type": "code",
   "execution_count": 7,
   "metadata": {},
   "outputs": [
    {
     "name": "stdout",
     "output_type": "stream",
     "text": [
      "<class 'pandas.core.frame.DataFrame'>\n",
      "RangeIndex: 18494 entries, 0 to 18493\n",
      "Data columns (total 7 columns):\n",
      " #   Column              Non-Null Count  Dtype  \n",
      "---  ------              --------------  -----  \n",
      " 0   cst_id              18490 non-null  float64\n",
      " 1   cst_key             18494 non-null  object \n",
      " 2   cst_firstname       18486 non-null  object \n",
      " 3   cst_lastname        18487 non-null  object \n",
      " 4   cst_marital_status  18487 non-null  object \n",
      " 5   cst_gndr            13916 non-null  object \n",
      " 6   cst_create_date     18490 non-null  object \n",
      "dtypes: float64(1), object(6)\n",
      "memory usage: 1011.5+ KB\n"
     ]
    }
   ],
   "source": [
    "df_cus.info()"
   ]
  },
  {
   "cell_type": "code",
   "execution_count": 48,
   "metadata": {},
   "outputs": [
    {
     "data": {
      "text/plain": [
       "['cst_id',\n",
       " 'cst_key',\n",
       " 'cst_firstname',\n",
       " 'cst_lastname',\n",
       " 'cst_marital_status',\n",
       " 'cst_gndr',\n",
       " 'cst_create_date']"
      ]
     },
     "execution_count": 48,
     "metadata": {},
     "output_type": "execute_result"
    }
   ],
   "source": [
    "df_cus.columns.to_list()"
   ]
  },
  {
   "cell_type": "code",
   "execution_count": 13,
   "metadata": {},
   "outputs": [
    {
     "data": {
      "text/html": [
       "<div>\n",
       "<style scoped>\n",
       "    .dataframe tbody tr th:only-of-type {\n",
       "        vertical-align: middle;\n",
       "    }\n",
       "\n",
       "    .dataframe tbody tr th {\n",
       "        vertical-align: top;\n",
       "    }\n",
       "\n",
       "    .dataframe thead th {\n",
       "        text-align: right;\n",
       "    }\n",
       "</style>\n",
       "<table border=\"1\" class=\"dataframe\">\n",
       "  <thead>\n",
       "    <tr style=\"text-align: right;\">\n",
       "      <th></th>\n",
       "      <th>CID</th>\n",
       "      <th>BDATE</th>\n",
       "      <th>GEN</th>\n",
       "    </tr>\n",
       "  </thead>\n",
       "  <tbody>\n",
       "    <tr>\n",
       "      <th>0</th>\n",
       "      <td>NASAW00011000</td>\n",
       "      <td>1971-10-06</td>\n",
       "      <td>Male</td>\n",
       "    </tr>\n",
       "    <tr>\n",
       "      <th>1</th>\n",
       "      <td>NASAW00011001</td>\n",
       "      <td>1976-05-10</td>\n",
       "      <td>Male</td>\n",
       "    </tr>\n",
       "    <tr>\n",
       "      <th>2</th>\n",
       "      <td>NASAW00011002</td>\n",
       "      <td>1971-02-09</td>\n",
       "      <td>Male</td>\n",
       "    </tr>\n",
       "    <tr>\n",
       "      <th>3</th>\n",
       "      <td>NASAW00011003</td>\n",
       "      <td>1973-08-14</td>\n",
       "      <td>Female</td>\n",
       "    </tr>\n",
       "    <tr>\n",
       "      <th>4</th>\n",
       "      <td>NASAW00011004</td>\n",
       "      <td>1979-08-05</td>\n",
       "      <td>Female</td>\n",
       "    </tr>\n",
       "  </tbody>\n",
       "</table>\n",
       "</div>"
      ],
      "text/plain": [
       "             CID       BDATE     GEN\n",
       "0  NASAW00011000  1971-10-06    Male\n",
       "1  NASAW00011001  1976-05-10    Male\n",
       "2  NASAW00011002  1971-02-09    Male\n",
       "3  NASAW00011003  1973-08-14  Female\n",
       "4  NASAW00011004  1979-08-05  Female"
      ]
     },
     "execution_count": 13,
     "metadata": {},
     "output_type": "execute_result"
    }
   ],
   "source": [
    "df_cus_a.head()   "
   ]
  },
  {
   "cell_type": "code",
   "execution_count": 14,
   "metadata": {},
   "outputs": [
    {
     "name": "stdout",
     "output_type": "stream",
     "text": [
      "<class 'pandas.core.frame.DataFrame'>\n",
      "RangeIndex: 18484 entries, 0 to 18483\n",
      "Data columns (total 3 columns):\n",
      " #   Column  Non-Null Count  Dtype \n",
      "---  ------  --------------  ----- \n",
      " 0   CID     18484 non-null  object\n",
      " 1   BDATE   18484 non-null  object\n",
      " 2   GEN     17012 non-null  object\n",
      "dtypes: object(3)\n",
      "memory usage: 433.3+ KB\n"
     ]
    }
   ],
   "source": [
    "df_cus_a.info()"
   ]
  },
  {
   "cell_type": "code",
   "execution_count": 50,
   "metadata": {},
   "outputs": [
    {
     "name": "stdout",
     "output_type": "stream",
     "text": [
      "<class 'pandas.core.frame.DataFrame'>\n",
      "RangeIndex: 18484 entries, 0 to 18483\n",
      "Data columns (total 3 columns):\n",
      " #   Column  Non-Null Count  Dtype \n",
      "---  ------  --------------  ----- \n",
      " 0   CID     18484 non-null  object\n",
      " 1   BDATE   18484 non-null  object\n",
      " 2   GEN     17012 non-null  object\n",
      "dtypes: object(3)\n",
      "memory usage: 433.3+ KB\n"
     ]
    }
   ],
   "source": [
    "df_cus_a.info()"
   ]
  },
  {
   "cell_type": "code",
   "execution_count": 15,
   "metadata": {},
   "outputs": [
    {
     "data": {
      "text/plain": [
       "['CID', 'BDATE', 'GEN']"
      ]
     },
     "execution_count": 15,
     "metadata": {},
     "output_type": "execute_result"
    }
   ],
   "source": [
    "df_cus_a.columns.tolist()"
   ]
  },
  {
   "cell_type": "code",
   "execution_count": 52,
   "metadata": {},
   "outputs": [
    {
     "data": {
      "text/html": [
       "<div>\n",
       "<style scoped>\n",
       "    .dataframe tbody tr th:only-of-type {\n",
       "        vertical-align: middle;\n",
       "    }\n",
       "\n",
       "    .dataframe tbody tr th {\n",
       "        vertical-align: top;\n",
       "    }\n",
       "\n",
       "    .dataframe thead th {\n",
       "        text-align: right;\n",
       "    }\n",
       "</style>\n",
       "<table border=\"1\" class=\"dataframe\">\n",
       "  <thead>\n",
       "    <tr style=\"text-align: right;\">\n",
       "      <th></th>\n",
       "      <th>CID</th>\n",
       "      <th>CNTRY</th>\n",
       "    </tr>\n",
       "  </thead>\n",
       "  <tbody>\n",
       "    <tr>\n",
       "      <th>0</th>\n",
       "      <td>AW-00011000</td>\n",
       "      <td>Australia</td>\n",
       "    </tr>\n",
       "    <tr>\n",
       "      <th>1</th>\n",
       "      <td>AW-00011001</td>\n",
       "      <td>Australia</td>\n",
       "    </tr>\n",
       "    <tr>\n",
       "      <th>2</th>\n",
       "      <td>AW-00011002</td>\n",
       "      <td>Australia</td>\n",
       "    </tr>\n",
       "    <tr>\n",
       "      <th>3</th>\n",
       "      <td>AW-00011003</td>\n",
       "      <td>Australia</td>\n",
       "    </tr>\n",
       "    <tr>\n",
       "      <th>4</th>\n",
       "      <td>AW-00011004</td>\n",
       "      <td>Australia</td>\n",
       "    </tr>\n",
       "  </tbody>\n",
       "</table>\n",
       "</div>"
      ],
      "text/plain": [
       "           CID      CNTRY\n",
       "0  AW-00011000  Australia\n",
       "1  AW-00011001  Australia\n",
       "2  AW-00011002  Australia\n",
       "3  AW-00011003  Australia\n",
       "4  AW-00011004  Australia"
      ]
     },
     "execution_count": 52,
     "metadata": {},
     "output_type": "execute_result"
    }
   ],
   "source": [
    "df_loc_a.head()"
   ]
  },
  {
   "cell_type": "code",
   "execution_count": 53,
   "metadata": {},
   "outputs": [
    {
     "data": {
      "text/html": [
       "<div>\n",
       "<style scoped>\n",
       "    .dataframe tbody tr th:only-of-type {\n",
       "        vertical-align: middle;\n",
       "    }\n",
       "\n",
       "    .dataframe tbody tr th {\n",
       "        vertical-align: top;\n",
       "    }\n",
       "\n",
       "    .dataframe thead th {\n",
       "        text-align: right;\n",
       "    }\n",
       "</style>\n",
       "<table border=\"1\" class=\"dataframe\">\n",
       "  <thead>\n",
       "    <tr style=\"text-align: right;\">\n",
       "      <th></th>\n",
       "      <th>ID</th>\n",
       "      <th>CAT</th>\n",
       "      <th>SUBCAT</th>\n",
       "      <th>MAINTENANCE</th>\n",
       "    </tr>\n",
       "  </thead>\n",
       "  <tbody>\n",
       "    <tr>\n",
       "      <th>0</th>\n",
       "      <td>AC_BR</td>\n",
       "      <td>Accessories</td>\n",
       "      <td>Bike Racks</td>\n",
       "      <td>Yes</td>\n",
       "    </tr>\n",
       "    <tr>\n",
       "      <th>1</th>\n",
       "      <td>AC_BS</td>\n",
       "      <td>Accessories</td>\n",
       "      <td>Bike Stands</td>\n",
       "      <td>No</td>\n",
       "    </tr>\n",
       "    <tr>\n",
       "      <th>2</th>\n",
       "      <td>AC_BC</td>\n",
       "      <td>Accessories</td>\n",
       "      <td>Bottles and Cages</td>\n",
       "      <td>No</td>\n",
       "    </tr>\n",
       "    <tr>\n",
       "      <th>3</th>\n",
       "      <td>AC_CL</td>\n",
       "      <td>Accessories</td>\n",
       "      <td>Cleaners</td>\n",
       "      <td>Yes</td>\n",
       "    </tr>\n",
       "    <tr>\n",
       "      <th>4</th>\n",
       "      <td>AC_FE</td>\n",
       "      <td>Accessories</td>\n",
       "      <td>Fenders</td>\n",
       "      <td>No</td>\n",
       "    </tr>\n",
       "  </tbody>\n",
       "</table>\n",
       "</div>"
      ],
      "text/plain": [
       "      ID          CAT             SUBCAT MAINTENANCE\n",
       "0  AC_BR  Accessories         Bike Racks         Yes\n",
       "1  AC_BS  Accessories        Bike Stands          No\n",
       "2  AC_BC  Accessories  Bottles and Cages          No\n",
       "3  AC_CL  Accessories           Cleaners         Yes\n",
       "4  AC_FE  Accessories            Fenders          No"
      ]
     },
     "execution_count": 53,
     "metadata": {},
     "output_type": "execute_result"
    }
   ],
   "source": [
    "df_px_a.head()"
   ]
  },
  {
   "cell_type": "code",
   "execution_count": null,
   "metadata": {},
   "outputs": [],
   "source": [
    "\n",
    "            # Verify table is created\n",
    "            if last_table:\n",
    "                logger.info(f\"The table name : {last_table} created succefully.\")\n",
    "            else:\n",
    "                logger.warning(f\"The table : {last_table} no found.\")"
   ]
  },
  {
   "cell_type": "code",
   "execution_count": null,
   "metadata": {},
   "outputs": [],
   "source": [
    "            for names in last_table:\n",
    "                logger.info(f\"The table name : {names[0]} created succefully.\")"
   ]
  }
 ],
 "metadata": {
  "kernelspec": {
   "display_name": "my_env",
   "language": "python",
   "name": "python3"
  },
  "language_info": {
   "codemirror_mode": {
    "name": "ipython",
    "version": 3
   },
   "file_extension": ".py",
   "mimetype": "text/x-python",
   "name": "python",
   "nbconvert_exporter": "python",
   "pygments_lexer": "ipython3",
   "version": "3.12.3"
  }
 },
 "nbformat": 4,
 "nbformat_minor": 2
}
